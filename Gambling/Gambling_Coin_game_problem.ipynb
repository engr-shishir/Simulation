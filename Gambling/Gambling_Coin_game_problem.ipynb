{
  "nbformat": 4,
  "nbformat_minor": 0,
  "metadata": {
    "colab": {
      "provenance": []
    },
    "kernelspec": {
      "name": "python3",
      "display_name": "Python 3"
    },
    "language_info": {
      "name": "python"
    }
  },
  "cells": [
    {
      "cell_type": "code",
      "execution_count": 1,
      "metadata": {
        "colab": {
          "base_uri": "https://localhost:8080/"
        },
        "id": "vbcfmSNHeXO-",
        "outputId": "77cc84c1-9362-46d6-ae11-8d3c3e4563f5"
      },
      "outputs": [
        {
          "output_type": "stream",
          "name": "stdout",
          "text": [
            "Each game on the average requires 9.002222 Flips for simulation\n",
            "Each game on the average requires 9 Flips in truly\n"
          ]
        }
      ],
      "source": [
        "import random\n",
        "\n",
        "def play_game():\n",
        "    lose_money = 0\n",
        "    head_count = 0\n",
        "    tail_count = 0\n",
        "\n",
        "    while abs(head_count - tail_count) < 3:\n",
        "        lose_money += 1\n",
        "        if random.randint(0, 9) < 5:\n",
        "            head_count += 1\n",
        "        else:\n",
        "            tail_count += 1\n",
        "\n",
        "    return lose_money\n",
        "\n",
        "n_simulations = 1000000\n",
        "total_lose_money = sum(play_game() for _ in range(n_simulations))\n",
        "total_gain_money = n_simulations*8\n",
        "expected_outcome = total_lose_money / n_simulations\n",
        "\n",
        "print(\"Each game on the average requires\", expected_outcome , \"Flips for simulation\")\n",
        "print(\"Each game on the average requires 9 Flips in truly\")"
      ]
    }
  ]
}