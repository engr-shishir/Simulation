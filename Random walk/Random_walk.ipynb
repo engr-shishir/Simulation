{
  "nbformat": 4,
  "nbformat_minor": 0,
  "metadata": {
    "colab": {
      "provenance": []
    },
    "kernelspec": {
      "name": "python3",
      "display_name": "Python 3"
    },
    "language_info": {
      "name": "python"
    }
  },
  "cells": [
    {
      "cell_type": "code",
      "execution_count": 1,
      "metadata": {
        "id": "nzH01mez8V7q"
      },
      "outputs": [],
      "source": [
        "import math\n",
        "import random\n",
        "import matplotlib.pyplot as plt"
      ]
    },
    {
      "cell_type": "code",
      "source": [
        "for asa in range(1):\n",
        "    step = 0\n",
        "    x = 0\n",
        "    y = 0\n",
        "    dotx = []\n",
        "    doty = []\n",
        "    direction = []\n",
        "\n",
        "    F_L_R = [0.5, 0.2, 0.2, 0.1]\n",
        "    F_L_R = [int(10 * i) for i in F_L_R]\n",
        "\n",
        "    while step <= 20:\n",
        "\n",
        "        rn = random.randint(0, 9)\n",
        "\n",
        "        if rn in range(F_L_R[0]):\n",
        "            direction.append('F')\n",
        "            y += 1\n",
        "            dotx.append(x)\n",
        "            doty.append(y)\n",
        "        elif rn in range(F_L_R[0], F_L_R[0] + F_L_R[1]):\n",
        "            direction.append('L')\n",
        "            x -= 1\n",
        "            dotx.append(x)\n",
        "            doty.append(y)\n",
        "        elif rn in range(F_L_R[1],F_L_R[0]+ F_L_R[1]+F_L_R[2]):\n",
        "            direction.append('R')\n",
        "            x += 1\n",
        "            dotx.append(x)\n",
        "            doty.append(y)\n",
        "        else:\n",
        "            y -= 1\n",
        "            direction.append('B')\n",
        "            dotx.append(x)\n",
        "            doty.append(y)\n",
        "        step += 1\n",
        "    plt.plot(dotx, doty)\n",
        "plt.show()"
      ],
      "metadata": {
        "colab": {
          "base_uri": "https://localhost:8080/",
          "height": 430
        },
        "id": "qoEAoV7Q8vZI",
        "outputId": "dc616c7b-19f8-4c3d-ce64-683cde9dc87b"
      },
      "execution_count": 2,
      "outputs": [
        {
          "output_type": "display_data",
          "data": {
            "text/plain": [
              "<Figure size 640x480 with 1 Axes>"
            ],
            "image/png": "[encoded data removed]"
          },
          "metadata": {}
        }
      ]
    }
  ]
}